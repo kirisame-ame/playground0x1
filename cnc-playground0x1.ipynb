{
 "cells": [
  {
   "cell_type": "code",
   "execution_count": 1,
   "metadata": {
    "_cell_guid": "b1076dfc-b9ad-4769-8c92-a6c4dae69d19",
    "_uuid": "8f2839f25d086af736a60e9eeb907d3b93b6e0e5",
    "execution": {
     "iopub.execute_input": "2025-02-03T15:00:07.687734Z",
     "iopub.status.busy": "2025-02-03T15:00:07.687311Z",
     "iopub.status.idle": "2025-02-03T15:00:07.696219Z",
     "shell.execute_reply": "2025-02-03T15:00:07.695015Z",
     "shell.execute_reply.started": "2025-02-03T15:00:07.687707Z"
    },
    "trusted": true
   },
   "outputs": [],
   "source": [
    "# This Python 3 environment comes with many helpful analytics libraries installed\n",
    "# It is defined by the kaggle/python Docker image: https://github.com/kaggle/docker-python\n",
    "# For example, here's several helpful packages to load\n",
    "\n",
    "import numpy as np # linear algebra\n",
    "import pandas as pd # data processing, CSV file I/O (e.g. pd.read_csv)\n",
    "\n",
    "# Input data files are available in the read-only \"../input/\" directory\n",
    "# For example, running this (by clicking run or pressing Shift+Enter) will list all files under the input directory\n",
    "\n",
    "import os\n",
    "\n",
    "# You can write up to 20GB to the current directory (/kaggle/working/) that gets preserved as output when you create a version using \"Save & Run All\" \n",
    "# You can also write temporary files to /kaggle/temp/, but they won't be saved outside of the current session"
   ]
  },
  {
   "cell_type": "code",
   "execution_count": 2,
   "metadata": {
    "execution": {
     "iopub.execute_input": "2025-02-03T15:00:07.697856Z",
     "iopub.status.busy": "2025-02-03T15:00:07.697544Z",
     "iopub.status.idle": "2025-02-03T15:00:08.057522Z",
     "shell.execute_reply": "2025-02-03T15:00:08.056429Z",
     "shell.execute_reply.started": "2025-02-03T15:00:07.697828Z"
    },
    "trusted": true
   },
   "outputs": [],
   "source": [
    "df_train = pd.read_csv(\"train.csv\")\n",
    "df_test = pd.read_csv(\"test.csv\")"
   ]
  },
  {
   "cell_type": "markdown",
   "metadata": {},
   "source": [
    "# Data Statistics"
   ]
  },
  {
   "cell_type": "code",
   "execution_count": 3,
   "metadata": {
    "execution": {
     "iopub.execute_input": "2025-02-03T15:00:08.059564Z",
     "iopub.status.busy": "2025-02-03T15:00:08.059227Z",
     "iopub.status.idle": "2025-02-03T15:00:08.081208Z",
     "shell.execute_reply": "2025-02-03T15:00:08.079991Z",
     "shell.execute_reply.started": "2025-02-03T15:00:08.059537Z"
    },
    "trusted": true
   },
   "outputs": [
    {
     "data": {
      "text/html": [
       "<div>\n",
       "<style scoped>\n",
       "    .dataframe tbody tr th:only-of-type {\n",
       "        vertical-align: middle;\n",
       "    }\n",
       "\n",
       "    .dataframe tbody tr th {\n",
       "        vertical-align: top;\n",
       "    }\n",
       "\n",
       "    .dataframe thead th {\n",
       "        text-align: right;\n",
       "    }\n",
       "</style>\n",
       "<table border=\"1\" class=\"dataframe\">\n",
       "  <thead>\n",
       "    <tr style=\"text-align: right;\">\n",
       "      <th></th>\n",
       "      <th>id</th>\n",
       "      <th>hotel</th>\n",
       "      <th>lead_time</th>\n",
       "      <th>arrival_date_year</th>\n",
       "      <th>arrival_date_month</th>\n",
       "      <th>arrival_date_week_number</th>\n",
       "      <th>arrival_date_day_of_month</th>\n",
       "      <th>stays_in_weekend_nights</th>\n",
       "      <th>stays_in_week_nights</th>\n",
       "      <th>adults</th>\n",
       "      <th>...</th>\n",
       "      <th>assigned_room_type</th>\n",
       "      <th>booking_changes</th>\n",
       "      <th>deposit_type</th>\n",
       "      <th>agent</th>\n",
       "      <th>company</th>\n",
       "      <th>days_in_waiting_list</th>\n",
       "      <th>customer_type</th>\n",
       "      <th>adr</th>\n",
       "      <th>required_car_parking_spaces</th>\n",
       "      <th>reservation_status</th>\n",
       "    </tr>\n",
       "  </thead>\n",
       "  <tbody>\n",
       "    <tr>\n",
       "      <th>0</th>\n",
       "      <td>0</td>\n",
       "      <td>Resort Hotel</td>\n",
       "      <td>312</td>\n",
       "      <td>2017</td>\n",
       "      <td>March</td>\n",
       "      <td>10</td>\n",
       "      <td>5</td>\n",
       "      <td>2</td>\n",
       "      <td>5</td>\n",
       "      <td>2</td>\n",
       "      <td>...</td>\n",
       "      <td>A</td>\n",
       "      <td>0</td>\n",
       "      <td>No Deposit</td>\n",
       "      <td>298.0</td>\n",
       "      <td>NaN</td>\n",
       "      <td>0</td>\n",
       "      <td>Transient-Party</td>\n",
       "      <td>56.0</td>\n",
       "      <td>0</td>\n",
       "      <td>0</td>\n",
       "    </tr>\n",
       "    <tr>\n",
       "      <th>1</th>\n",
       "      <td>1</td>\n",
       "      <td>City Hotel</td>\n",
       "      <td>2</td>\n",
       "      <td>2015</td>\n",
       "      <td>December</td>\n",
       "      <td>51</td>\n",
       "      <td>18</td>\n",
       "      <td>0</td>\n",
       "      <td>2</td>\n",
       "      <td>2</td>\n",
       "      <td>...</td>\n",
       "      <td>D</td>\n",
       "      <td>1</td>\n",
       "      <td>No Deposit</td>\n",
       "      <td>9.0</td>\n",
       "      <td>NaN</td>\n",
       "      <td>0</td>\n",
       "      <td>Transient</td>\n",
       "      <td>97.0</td>\n",
       "      <td>0</td>\n",
       "      <td>1</td>\n",
       "    </tr>\n",
       "    <tr>\n",
       "      <th>2</th>\n",
       "      <td>2</td>\n",
       "      <td>City Hotel</td>\n",
       "      <td>41</td>\n",
       "      <td>2016</td>\n",
       "      <td>March</td>\n",
       "      <td>14</td>\n",
       "      <td>31</td>\n",
       "      <td>0</td>\n",
       "      <td>3</td>\n",
       "      <td>2</td>\n",
       "      <td>...</td>\n",
       "      <td>A</td>\n",
       "      <td>0</td>\n",
       "      <td>No Deposit</td>\n",
       "      <td>9.0</td>\n",
       "      <td>NaN</td>\n",
       "      <td>0</td>\n",
       "      <td>Transient</td>\n",
       "      <td>117.9</td>\n",
       "      <td>0</td>\n",
       "      <td>1</td>\n",
       "    </tr>\n",
       "    <tr>\n",
       "      <th>3</th>\n",
       "      <td>3</td>\n",
       "      <td>Resort Hotel</td>\n",
       "      <td>228</td>\n",
       "      <td>2016</td>\n",
       "      <td>August</td>\n",
       "      <td>36</td>\n",
       "      <td>29</td>\n",
       "      <td>2</td>\n",
       "      <td>5</td>\n",
       "      <td>2</td>\n",
       "      <td>...</td>\n",
       "      <td>D</td>\n",
       "      <td>0</td>\n",
       "      <td>No Deposit</td>\n",
       "      <td>175.0</td>\n",
       "      <td>NaN</td>\n",
       "      <td>0</td>\n",
       "      <td>Transient</td>\n",
       "      <td>86.4</td>\n",
       "      <td>0</td>\n",
       "      <td>1</td>\n",
       "    </tr>\n",
       "    <tr>\n",
       "      <th>4</th>\n",
       "      <td>4</td>\n",
       "      <td>City Hotel</td>\n",
       "      <td>128</td>\n",
       "      <td>2017</td>\n",
       "      <td>May</td>\n",
       "      <td>19</td>\n",
       "      <td>13</td>\n",
       "      <td>0</td>\n",
       "      <td>1</td>\n",
       "      <td>3</td>\n",
       "      <td>...</td>\n",
       "      <td>A</td>\n",
       "      <td>0</td>\n",
       "      <td>No Deposit</td>\n",
       "      <td>9.0</td>\n",
       "      <td>NaN</td>\n",
       "      <td>0</td>\n",
       "      <td>Transient</td>\n",
       "      <td>144.0</td>\n",
       "      <td>0</td>\n",
       "      <td>1</td>\n",
       "    </tr>\n",
       "  </tbody>\n",
       "</table>\n",
       "<p>5 rows × 30 columns</p>\n",
       "</div>"
      ],
      "text/plain": [
       "   id         hotel  lead_time  arrival_date_year arrival_date_month  \\\n",
       "0   0  Resort Hotel        312               2017              March   \n",
       "1   1    City Hotel          2               2015           December   \n",
       "2   2    City Hotel         41               2016              March   \n",
       "3   3  Resort Hotel        228               2016             August   \n",
       "4   4    City Hotel        128               2017                May   \n",
       "\n",
       "   arrival_date_week_number  arrival_date_day_of_month  \\\n",
       "0                        10                          5   \n",
       "1                        51                         18   \n",
       "2                        14                         31   \n",
       "3                        36                         29   \n",
       "4                        19                         13   \n",
       "\n",
       "   stays_in_weekend_nights  stays_in_week_nights  adults  ...  \\\n",
       "0                        2                     5       2  ...   \n",
       "1                        0                     2       2  ...   \n",
       "2                        0                     3       2  ...   \n",
       "3                        2                     5       2  ...   \n",
       "4                        0                     1       3  ...   \n",
       "\n",
       "   assigned_room_type  booking_changes deposit_type  agent company  \\\n",
       "0                   A                0   No Deposit  298.0     NaN   \n",
       "1                   D                1   No Deposit    9.0     NaN   \n",
       "2                   A                0   No Deposit    9.0     NaN   \n",
       "3                   D                0   No Deposit  175.0     NaN   \n",
       "4                   A                0   No Deposit    9.0     NaN   \n",
       "\n",
       "  days_in_waiting_list    customer_type    adr  required_car_parking_spaces  \\\n",
       "0                    0  Transient-Party   56.0                            0   \n",
       "1                    0        Transient   97.0                            0   \n",
       "2                    0        Transient  117.9                            0   \n",
       "3                    0        Transient   86.4                            0   \n",
       "4                    0        Transient  144.0                            0   \n",
       "\n",
       "  reservation_status  \n",
       "0                  0  \n",
       "1                  1  \n",
       "2                  1  \n",
       "3                  1  \n",
       "4                  1  \n",
       "\n",
       "[5 rows x 30 columns]"
      ]
     },
     "execution_count": 3,
     "metadata": {},
     "output_type": "execute_result"
    }
   ],
   "source": [
    "df_train.head()"
   ]
  },
  {
   "cell_type": "code",
   "execution_count": 4,
   "metadata": {
    "execution": {
     "iopub.execute_input": "2025-02-03T15:00:08.083258Z",
     "iopub.status.busy": "2025-02-03T15:00:08.082867Z",
     "iopub.status.idle": "2025-02-03T15:00:08.148527Z",
     "shell.execute_reply": "2025-02-03T15:00:08.147333Z",
     "shell.execute_reply.started": "2025-02-03T15:00:08.083218Z"
    },
    "trusted": true
   },
   "outputs": [
    {
     "name": "stdout",
     "output_type": "stream",
     "text": [
      "<class 'pandas.core.frame.DataFrame'>\n",
      "RangeIndex: 75636 entries, 0 to 75635\n",
      "Data columns (total 30 columns):\n",
      " #   Column                          Non-Null Count  Dtype  \n",
      "---  ------                          --------------  -----  \n",
      " 0   id                              75636 non-null  int64  \n",
      " 1   hotel                           75636 non-null  object \n",
      " 2   lead_time                       75636 non-null  int64  \n",
      " 3   arrival_date_year               75636 non-null  int64  \n",
      " 4   arrival_date_month              75636 non-null  object \n",
      " 5   arrival_date_week_number        75636 non-null  int64  \n",
      " 6   arrival_date_day_of_month       75636 non-null  int64  \n",
      " 7   stays_in_weekend_nights         75636 non-null  int64  \n",
      " 8   stays_in_week_nights            75636 non-null  int64  \n",
      " 9   adults                          75636 non-null  int64  \n",
      " 10  children                        75633 non-null  float64\n",
      " 11  babies                          75636 non-null  int64  \n",
      " 12  meal                            75636 non-null  object \n",
      " 13  country                         75311 non-null  object \n",
      " 14  market_segment                  75636 non-null  object \n",
      " 15  distribution_channel            75636 non-null  object \n",
      " 16  is_repeated_guest               75636 non-null  int64  \n",
      " 17  previous_cancellations          75636 non-null  int64  \n",
      " 18  previous_bookings_not_canceled  75636 non-null  int64  \n",
      " 19  reserved_room_type              75636 non-null  object \n",
      " 20  assigned_room_type              75636 non-null  object \n",
      " 21  booking_changes                 75636 non-null  int64  \n",
      " 22  deposit_type                    75636 non-null  object \n",
      " 23  agent                           65369 non-null  float64\n",
      " 24  company                         4287 non-null   float64\n",
      " 25  days_in_waiting_list            75636 non-null  int64  \n",
      " 26  customer_type                   75636 non-null  object \n",
      " 27  adr                             75636 non-null  float64\n",
      " 28  required_car_parking_spaces     75636 non-null  int64  \n",
      " 29  reservation_status              75636 non-null  int64  \n",
      "dtypes: float64(4), int64(16), object(10)\n",
      "memory usage: 17.3+ MB\n"
     ]
    }
   ],
   "source": [
    "df_train.info()"
   ]
  },
  {
   "cell_type": "code",
   "execution_count": 5,
   "metadata": {
    "execution": {
     "iopub.execute_input": "2025-02-03T15:00:08.149886Z",
     "iopub.status.busy": "2025-02-03T15:00:08.149530Z",
     "iopub.status.idle": "2025-02-03T15:00:08.246664Z",
     "shell.execute_reply": "2025-02-03T15:00:08.245481Z",
     "shell.execute_reply.started": "2025-02-03T15:00:08.149858Z"
    },
    "trusted": true
   },
   "outputs": [
    {
     "data": {
      "text/html": [
       "<div>\n",
       "<style scoped>\n",
       "    .dataframe tbody tr th:only-of-type {\n",
       "        vertical-align: middle;\n",
       "    }\n",
       "\n",
       "    .dataframe tbody tr th {\n",
       "        vertical-align: top;\n",
       "    }\n",
       "\n",
       "    .dataframe thead th {\n",
       "        text-align: right;\n",
       "    }\n",
       "</style>\n",
       "<table border=\"1\" class=\"dataframe\">\n",
       "  <thead>\n",
       "    <tr style=\"text-align: right;\">\n",
       "      <th></th>\n",
       "      <th>id</th>\n",
       "      <th>lead_time</th>\n",
       "      <th>arrival_date_year</th>\n",
       "      <th>arrival_date_week_number</th>\n",
       "      <th>arrival_date_day_of_month</th>\n",
       "      <th>stays_in_weekend_nights</th>\n",
       "      <th>stays_in_week_nights</th>\n",
       "      <th>adults</th>\n",
       "      <th>children</th>\n",
       "      <th>babies</th>\n",
       "      <th>is_repeated_guest</th>\n",
       "      <th>previous_cancellations</th>\n",
       "      <th>previous_bookings_not_canceled</th>\n",
       "      <th>booking_changes</th>\n",
       "      <th>agent</th>\n",
       "      <th>company</th>\n",
       "      <th>days_in_waiting_list</th>\n",
       "      <th>adr</th>\n",
       "      <th>required_car_parking_spaces</th>\n",
       "      <th>reservation_status</th>\n",
       "    </tr>\n",
       "  </thead>\n",
       "  <tbody>\n",
       "    <tr>\n",
       "      <th>count</th>\n",
       "      <td>75636.000000</td>\n",
       "      <td>75636.000000</td>\n",
       "      <td>75636.000000</td>\n",
       "      <td>75636.000000</td>\n",
       "      <td>75636.000000</td>\n",
       "      <td>75636.000000</td>\n",
       "      <td>75636.000000</td>\n",
       "      <td>75636.000000</td>\n",
       "      <td>75633.000000</td>\n",
       "      <td>75636.000000</td>\n",
       "      <td>75636.000000</td>\n",
       "      <td>75636.000000</td>\n",
       "      <td>75636.000000</td>\n",
       "      <td>75636.000000</td>\n",
       "      <td>65369.000000</td>\n",
       "      <td>4287.000000</td>\n",
       "      <td>75636.000000</td>\n",
       "      <td>75636.000000</td>\n",
       "      <td>75636.000000</td>\n",
       "      <td>75636.000000</td>\n",
       "    </tr>\n",
       "    <tr>\n",
       "      <th>mean</th>\n",
       "      <td>37817.500000</td>\n",
       "      <td>104.216841</td>\n",
       "      <td>2016.158351</td>\n",
       "      <td>27.191509</td>\n",
       "      <td>15.782921</td>\n",
       "      <td>0.929531</td>\n",
       "      <td>2.506650</td>\n",
       "      <td>1.856946</td>\n",
       "      <td>0.103764</td>\n",
       "      <td>0.007563</td>\n",
       "      <td>0.031361</td>\n",
       "      <td>0.086348</td>\n",
       "      <td>0.139999</td>\n",
       "      <td>0.221046</td>\n",
       "      <td>86.723172</td>\n",
       "      <td>189.899697</td>\n",
       "      <td>2.316146</td>\n",
       "      <td>101.932624</td>\n",
       "      <td>0.062602</td>\n",
       "      <td>0.636046</td>\n",
       "    </tr>\n",
       "    <tr>\n",
       "      <th>std</th>\n",
       "      <td>21834.376817</td>\n",
       "      <td>106.797344</td>\n",
       "      <td>0.706349</td>\n",
       "      <td>13.618039</td>\n",
       "      <td>8.770960</td>\n",
       "      <td>1.002940</td>\n",
       "      <td>1.923848</td>\n",
       "      <td>0.564948</td>\n",
       "      <td>0.396923</td>\n",
       "      <td>0.093249</td>\n",
       "      <td>0.174292</td>\n",
       "      <td>0.838637</td>\n",
       "      <td>1.525138</td>\n",
       "      <td>0.648692</td>\n",
       "      <td>110.755189</td>\n",
       "      <td>132.540272</td>\n",
       "      <td>17.523782</td>\n",
       "      <td>51.928827</td>\n",
       "      <td>0.245124</td>\n",
       "      <td>0.481139</td>\n",
       "    </tr>\n",
       "    <tr>\n",
       "      <th>min</th>\n",
       "      <td>0.000000</td>\n",
       "      <td>0.000000</td>\n",
       "      <td>2015.000000</td>\n",
       "      <td>1.000000</td>\n",
       "      <td>1.000000</td>\n",
       "      <td>0.000000</td>\n",
       "      <td>0.000000</td>\n",
       "      <td>0.000000</td>\n",
       "      <td>0.000000</td>\n",
       "      <td>0.000000</td>\n",
       "      <td>0.000000</td>\n",
       "      <td>0.000000</td>\n",
       "      <td>0.000000</td>\n",
       "      <td>0.000000</td>\n",
       "      <td>1.000000</td>\n",
       "      <td>6.000000</td>\n",
       "      <td>0.000000</td>\n",
       "      <td>-6.380000</td>\n",
       "      <td>0.000000</td>\n",
       "      <td>0.000000</td>\n",
       "    </tr>\n",
       "    <tr>\n",
       "      <th>25%</th>\n",
       "      <td>18908.750000</td>\n",
       "      <td>18.000000</td>\n",
       "      <td>2016.000000</td>\n",
       "      <td>16.000000</td>\n",
       "      <td>8.000000</td>\n",
       "      <td>0.000000</td>\n",
       "      <td>1.000000</td>\n",
       "      <td>2.000000</td>\n",
       "      <td>0.000000</td>\n",
       "      <td>0.000000</td>\n",
       "      <td>0.000000</td>\n",
       "      <td>0.000000</td>\n",
       "      <td>0.000000</td>\n",
       "      <td>0.000000</td>\n",
       "      <td>9.000000</td>\n",
       "      <td>62.000000</td>\n",
       "      <td>0.000000</td>\n",
       "      <td>69.000000</td>\n",
       "      <td>0.000000</td>\n",
       "      <td>0.000000</td>\n",
       "    </tr>\n",
       "    <tr>\n",
       "      <th>50%</th>\n",
       "      <td>37817.500000</td>\n",
       "      <td>70.000000</td>\n",
       "      <td>2016.000000</td>\n",
       "      <td>28.000000</td>\n",
       "      <td>16.000000</td>\n",
       "      <td>1.000000</td>\n",
       "      <td>2.000000</td>\n",
       "      <td>2.000000</td>\n",
       "      <td>0.000000</td>\n",
       "      <td>0.000000</td>\n",
       "      <td>0.000000</td>\n",
       "      <td>0.000000</td>\n",
       "      <td>0.000000</td>\n",
       "      <td>0.000000</td>\n",
       "      <td>14.000000</td>\n",
       "      <td>179.000000</td>\n",
       "      <td>0.000000</td>\n",
       "      <td>95.000000</td>\n",
       "      <td>0.000000</td>\n",
       "      <td>1.000000</td>\n",
       "    </tr>\n",
       "    <tr>\n",
       "      <th>75%</th>\n",
       "      <td>56726.250000</td>\n",
       "      <td>161.000000</td>\n",
       "      <td>2017.000000</td>\n",
       "      <td>38.000000</td>\n",
       "      <td>23.000000</td>\n",
       "      <td>2.000000</td>\n",
       "      <td>3.000000</td>\n",
       "      <td>2.000000</td>\n",
       "      <td>0.000000</td>\n",
       "      <td>0.000000</td>\n",
       "      <td>0.000000</td>\n",
       "      <td>0.000000</td>\n",
       "      <td>0.000000</td>\n",
       "      <td>0.000000</td>\n",
       "      <td>229.000000</td>\n",
       "      <td>274.000000</td>\n",
       "      <td>0.000000</td>\n",
       "      <td>126.000000</td>\n",
       "      <td>0.000000</td>\n",
       "      <td>1.000000</td>\n",
       "    </tr>\n",
       "    <tr>\n",
       "      <th>max</th>\n",
       "      <td>75635.000000</td>\n",
       "      <td>737.000000</td>\n",
       "      <td>2017.000000</td>\n",
       "      <td>53.000000</td>\n",
       "      <td>31.000000</td>\n",
       "      <td>19.000000</td>\n",
       "      <td>50.000000</td>\n",
       "      <td>55.000000</td>\n",
       "      <td>3.000000</td>\n",
       "      <td>9.000000</td>\n",
       "      <td>1.000000</td>\n",
       "      <td>26.000000</td>\n",
       "      <td>72.000000</td>\n",
       "      <td>20.000000</td>\n",
       "      <td>535.000000</td>\n",
       "      <td>543.000000</td>\n",
       "      <td>391.000000</td>\n",
       "      <td>5400.000000</td>\n",
       "      <td>8.000000</td>\n",
       "      <td>1.000000</td>\n",
       "    </tr>\n",
       "  </tbody>\n",
       "</table>\n",
       "</div>"
      ],
      "text/plain": [
       "                 id     lead_time  arrival_date_year  \\\n",
       "count  75636.000000  75636.000000       75636.000000   \n",
       "mean   37817.500000    104.216841        2016.158351   \n",
       "std    21834.376817    106.797344           0.706349   \n",
       "min        0.000000      0.000000        2015.000000   \n",
       "25%    18908.750000     18.000000        2016.000000   \n",
       "50%    37817.500000     70.000000        2016.000000   \n",
       "75%    56726.250000    161.000000        2017.000000   \n",
       "max    75635.000000    737.000000        2017.000000   \n",
       "\n",
       "       arrival_date_week_number  arrival_date_day_of_month  \\\n",
       "count              75636.000000               75636.000000   \n",
       "mean                  27.191509                  15.782921   \n",
       "std                   13.618039                   8.770960   \n",
       "min                    1.000000                   1.000000   \n",
       "25%                   16.000000                   8.000000   \n",
       "50%                   28.000000                  16.000000   \n",
       "75%                   38.000000                  23.000000   \n",
       "max                   53.000000                  31.000000   \n",
       "\n",
       "       stays_in_weekend_nights  stays_in_week_nights        adults  \\\n",
       "count             75636.000000          75636.000000  75636.000000   \n",
       "mean                  0.929531              2.506650      1.856946   \n",
       "std                   1.002940              1.923848      0.564948   \n",
       "min                   0.000000              0.000000      0.000000   \n",
       "25%                   0.000000              1.000000      2.000000   \n",
       "50%                   1.000000              2.000000      2.000000   \n",
       "75%                   2.000000              3.000000      2.000000   \n",
       "max                  19.000000             50.000000     55.000000   \n",
       "\n",
       "           children        babies  is_repeated_guest  previous_cancellations  \\\n",
       "count  75633.000000  75636.000000       75636.000000            75636.000000   \n",
       "mean       0.103764      0.007563           0.031361                0.086348   \n",
       "std        0.396923      0.093249           0.174292                0.838637   \n",
       "min        0.000000      0.000000           0.000000                0.000000   \n",
       "25%        0.000000      0.000000           0.000000                0.000000   \n",
       "50%        0.000000      0.000000           0.000000                0.000000   \n",
       "75%        0.000000      0.000000           0.000000                0.000000   \n",
       "max        3.000000      9.000000           1.000000               26.000000   \n",
       "\n",
       "       previous_bookings_not_canceled  booking_changes         agent  \\\n",
       "count                    75636.000000     75636.000000  65369.000000   \n",
       "mean                         0.139999         0.221046     86.723172   \n",
       "std                          1.525138         0.648692    110.755189   \n",
       "min                          0.000000         0.000000      1.000000   \n",
       "25%                          0.000000         0.000000      9.000000   \n",
       "50%                          0.000000         0.000000     14.000000   \n",
       "75%                          0.000000         0.000000    229.000000   \n",
       "max                         72.000000        20.000000    535.000000   \n",
       "\n",
       "           company  days_in_waiting_list           adr  \\\n",
       "count  4287.000000          75636.000000  75636.000000   \n",
       "mean    189.899697              2.316146    101.932624   \n",
       "std     132.540272             17.523782     51.928827   \n",
       "min       6.000000              0.000000     -6.380000   \n",
       "25%      62.000000              0.000000     69.000000   \n",
       "50%     179.000000              0.000000     95.000000   \n",
       "75%     274.000000              0.000000    126.000000   \n",
       "max     543.000000            391.000000   5400.000000   \n",
       "\n",
       "       required_car_parking_spaces  reservation_status  \n",
       "count                 75636.000000        75636.000000  \n",
       "mean                      0.062602            0.636046  \n",
       "std                       0.245124            0.481139  \n",
       "min                       0.000000            0.000000  \n",
       "25%                       0.000000            0.000000  \n",
       "50%                       0.000000            1.000000  \n",
       "75%                       0.000000            1.000000  \n",
       "max                       8.000000            1.000000  "
      ]
     },
     "execution_count": 5,
     "metadata": {},
     "output_type": "execute_result"
    }
   ],
   "source": [
    "df_train.describe()"
   ]
  },
  {
   "cell_type": "code",
   "execution_count": 6,
   "metadata": {
    "execution": {
     "iopub.execute_input": "2025-02-03T15:00:08.248248Z",
     "iopub.status.busy": "2025-02-03T15:00:08.247861Z",
     "iopub.status.idle": "2025-02-03T15:00:08.256887Z",
     "shell.execute_reply": "2025-02-03T15:00:08.255540Z",
     "shell.execute_reply.started": "2025-02-03T15:00:08.248209Z"
    },
    "trusted": true
   },
   "outputs": [
    {
     "data": {
      "text/plain": [
       "reservation_status\n",
       "1    48108\n",
       "0    27528\n",
       "Name: count, dtype: int64"
      ]
     },
     "execution_count": 6,
     "metadata": {},
     "output_type": "execute_result"
    }
   ],
   "source": [
    "df_train['reservation_status'].value_counts()"
   ]
  },
  {
   "cell_type": "code",
   "execution_count": 7,
   "metadata": {
    "execution": {
     "iopub.execute_input": "2025-02-03T15:00:08.260560Z",
     "iopub.status.busy": "2025-02-03T15:00:08.260100Z",
     "iopub.status.idle": "2025-02-03T15:00:08.319235Z",
     "shell.execute_reply": "2025-02-03T15:00:08.317831Z",
     "shell.execute_reply.started": "2025-02-03T15:00:08.260526Z"
    },
    "trusted": true
   },
   "outputs": [
    {
     "data": {
      "text/plain": [
       "id                                    0\n",
       "hotel                                 0\n",
       "lead_time                             0\n",
       "arrival_date_year                     0\n",
       "arrival_date_month                    0\n",
       "arrival_date_week_number              0\n",
       "arrival_date_day_of_month             0\n",
       "stays_in_weekend_nights               0\n",
       "stays_in_week_nights                  0\n",
       "adults                                0\n",
       "children                              3\n",
       "babies                                0\n",
       "meal                                  0\n",
       "country                             325\n",
       "market_segment                        0\n",
       "distribution_channel                  0\n",
       "is_repeated_guest                     0\n",
       "previous_cancellations                0\n",
       "previous_bookings_not_canceled        0\n",
       "reserved_room_type                    0\n",
       "assigned_room_type                    0\n",
       "booking_changes                       0\n",
       "deposit_type                          0\n",
       "agent                             10267\n",
       "company                           71349\n",
       "days_in_waiting_list                  0\n",
       "customer_type                         0\n",
       "adr                                   0\n",
       "required_car_parking_spaces           0\n",
       "reservation_status                    0\n",
       "dtype: int64"
      ]
     },
     "execution_count": 7,
     "metadata": {},
     "output_type": "execute_result"
    }
   ],
   "source": [
    "df_train.isna().sum()"
   ]
  },
  {
   "cell_type": "code",
   "execution_count": 8,
   "metadata": {
    "execution": {
     "iopub.execute_input": "2025-02-03T15:00:08.322169Z",
     "iopub.status.busy": "2025-02-03T15:00:08.321677Z",
     "iopub.status.idle": "2025-02-03T15:00:08.387141Z",
     "shell.execute_reply": "2025-02-03T15:00:08.386220Z",
     "shell.execute_reply.started": "2025-02-03T15:00:08.322137Z"
    },
    "trusted": true
   },
   "outputs": [
    {
     "data": {
      "text/plain": [
       "id                                75636\n",
       "hotel                                 2\n",
       "lead_time                           474\n",
       "arrival_date_year                     3\n",
       "arrival_date_month                   12\n",
       "arrival_date_week_number             53\n",
       "arrival_date_day_of_month            31\n",
       "stays_in_weekend_nights              17\n",
       "stays_in_week_nights                 34\n",
       "adults                               11\n",
       "children                              4\n",
       "babies                                4\n",
       "meal                                  5\n",
       "country                             164\n",
       "market_segment                        8\n",
       "distribution_channel                  5\n",
       "is_repeated_guest                     2\n",
       "previous_cancellations               15\n",
       "previous_bookings_not_canceled       61\n",
       "reserved_room_type                   10\n",
       "assigned_room_type                   11\n",
       "booking_changes                      20\n",
       "deposit_type                          3\n",
       "agent                               310\n",
       "company                             318\n",
       "days_in_waiting_list                119\n",
       "customer_type                         4\n",
       "adr                                7137\n",
       "required_car_parking_spaces           5\n",
       "reservation_status                    2\n",
       "dtype: int64"
      ]
     },
     "execution_count": 8,
     "metadata": {},
     "output_type": "execute_result"
    }
   ],
   "source": [
    "df_train.nunique()"
   ]
  },
  {
   "cell_type": "markdown",
   "metadata": {},
   "source": [
    "# Exploratory Data Analysis"
   ]
  },
  {
   "cell_type": "code",
   "execution_count": 9,
   "metadata": {
    "execution": {
     "iopub.execute_input": "2025-02-03T15:00:08.388551Z",
     "iopub.status.busy": "2025-02-03T15:00:08.388234Z",
     "iopub.status.idle": "2025-02-03T15:00:08.393010Z",
     "shell.execute_reply": "2025-02-03T15:00:08.391959Z",
     "shell.execute_reply.started": "2025-02-03T15:00:08.388525Z"
    },
    "trusted": true
   },
   "outputs": [],
   "source": [
    "import matplotlib.pyplot as plt\n",
    "import seaborn as sns"
   ]
  },
  {
   "cell_type": "markdown",
   "metadata": {},
   "source": [
    "## Distribution by Hotel"
   ]
  },
  {
   "cell_type": "code",
   "execution_count": 10,
   "metadata": {
    "execution": {
     "iopub.execute_input": "2025-02-03T15:00:08.394383Z",
     "iopub.status.busy": "2025-02-03T15:00:08.394061Z",
     "iopub.status.idle": "2025-02-03T15:00:08.672723Z",
     "shell.execute_reply": "2025-02-03T15:00:08.671352Z",
     "shell.execute_reply.started": "2025-02-03T15:00:08.394344Z"
    },
    "trusted": true
   },
   "outputs": [
    {
     "name": "stdout",
     "output_type": "stream",
     "text": [
      "hotel\n",
      "City Hotel      50262\n",
      "Resort Hotel    25374\n",
      "Name: count, dtype: int64\n"
     ]
    },
    {
     "data": {
      "image/png": "[encoded data removed]",
      "text/plain": [
       "<Figure size 640x480 with 1 Axes>"
      ]
     },
     "metadata": {},
     "output_type": "display_data"
    }
   ],
   "source": [
    "sns.histplot(data=df_train['hotel'])\n",
    "print(df_train['hotel'].value_counts())"
   ]
  },
  {
   "cell_type": "markdown",
   "metadata": {},
   "source": [
    "# Distribution by Reservation Status"
   ]
  },
  {
   "cell_type": "code",
   "execution_count": 24,
   "metadata": {
    "execution": {
     "iopub.execute_input": "2025-02-03T15:00:08.674265Z",
     "iopub.status.busy": "2025-02-03T15:00:08.673872Z",
     "iopub.status.idle": "2025-02-03T15:00:09.117513Z",
     "shell.execute_reply": "2025-02-03T15:00:09.116031Z",
     "shell.execute_reply.started": "2025-02-03T15:00:08.674237Z"
    },
    "trusted": true
   },
   "outputs": [
    {
     "name": "stdout",
     "output_type": "stream",
     "text": [
      "reservation_status\n",
      "1    48108\n",
      "0    27528\n",
      "Name: count, dtype: int64\n"
     ]
    },
    {
     "data": {
      "image/png": "[encoded data removed]",
      "text/plain": [
       "<Figure size 640x480 with 1 Axes>"
      ]
     },
     "metadata": {},
     "output_type": "display_data"
    }
   ],
   "source": [
    "str_train = df_train.copy()\n",
    "str_train.drop(\"id\",axis=1,inplace=True)\n",
    "str_train['reservation_status'] = str_train['reservation_status'].astype(\"string\")\n",
    "sns.histplot(data=str_train,x=\"reservation_status\",bins=2,discrete=True)\n",
    "print(df_train['reservation_status'].value_counts())"
   ]
  },
  {
   "cell_type": "code",
   "execution_count": 25,
   "metadata": {},
   "outputs": [
    {
     "data": {
      "image/png": "[encoded data removed]",
      "text/plain": [
       "<Figure size 640x480 with 1 Axes>"
      ]
     },
     "metadata": {},
     "output_type": "display_data"
    }
   ],
   "source": [
    "col = 'lead_time'\n",
    "plt.figure()\n",
    "sns.histplot(data=str_train, x=col,hue='reservation_status',kde=True)\n",
    "plt.title(f'Distribution of {col} by Reservation Status')\n",
    "plt.show()"
   ]
  },
  {
   "cell_type": "code",
   "execution_count": 37,
   "metadata": {},
   "outputs": [
    {
     "data": {
      "image/png": "[encoded data removed]",
      "text/plain": [
       "<Figure size 640x480 with 1 Axes>"
      ]
     },
     "metadata": {},
     "output_type": "display_data"
    }
   ],
   "source": [
    "col = 'arrival_date_year'\n",
    "year_order = ['2015','2016','2017']\n",
    "str_train[col] = pd.Categorical(str_train[col], categories=year_order, ordered=True)\n",
    "plt.figure()\n",
    "sns.histplot(data=str_train, x=col,bins=3,discrete=True,hue='reservation_status',kde=True)\n",
    "plt.title(f'Distribution of {col} by Reservation Status')\n",
    "plt.show()"
   ]
  },
  {
   "cell_type": "code",
   "execution_count": 41,
   "metadata": {},
   "outputs": [
    {
     "name": "stdout",
     "output_type": "stream",
     "text": [
      "2015 reservation distribution : reservation_status\n",
      "1    8836\n",
      "0    4992\n",
      "Name: count, dtype: Int64\n",
      "2015 success rate : 63.90%\n",
      "2016 reservation distribution : reservation_status\n",
      "1    23303\n",
      "0    12700\n",
      "Name: count, dtype: Int64\n",
      "2016 success rate : 64.73%\n",
      "2017 reservation distribution : reservation_status\n",
      "1    15969\n",
      "0     9836\n",
      "Name: count, dtype: Int64\n",
      "2017 success rate : 61.88%\n"
     ]
    },
    {
     "name": "stderr",
     "output_type": "stream",
     "text": [
      "C:\\Users\\jason\\AppData\\Local\\Temp\\ipykernel_3420\\3331307246.py:3: FutureWarning: Series.__getitem__ treating keys as positions is deprecated. In a future version, integer keys will always be treated as labels (consistent with DataFrame behavior). To access a value by position, use `ser.iloc[pos]`\n",
      "  print(f'{i} success rate : {str_train[str_train[\"arrival_date_year\"]==i][\"reservation_status\"].value_counts()[0]/str_train[str_train[\"arrival_date_year\"]==i].shape[0] *100:.2f}%')\n",
      "C:\\Users\\jason\\AppData\\Local\\Temp\\ipykernel_3420\\3331307246.py:3: FutureWarning: Series.__getitem__ treating keys as positions is deprecated. In a future version, integer keys will always be treated as labels (consistent with DataFrame behavior). To access a value by position, use `ser.iloc[pos]`\n",
      "  print(f'{i} success rate : {str_train[str_train[\"arrival_date_year\"]==i][\"reservation_status\"].value_counts()[0]/str_train[str_train[\"arrival_date_year\"]==i].shape[0] *100:.2f}%')\n",
      "C:\\Users\\jason\\AppData\\Local\\Temp\\ipykernel_3420\\3331307246.py:3: FutureWarning: Series.__getitem__ treating keys as positions is deprecated. In a future version, integer keys will always be treated as labels (consistent with DataFrame behavior). To access a value by position, use `ser.iloc[pos]`\n",
      "  print(f'{i} success rate : {str_train[str_train[\"arrival_date_year\"]==i][\"reservation_status\"].value_counts()[0]/str_train[str_train[\"arrival_date_year\"]==i].shape[0] *100:.2f}%')\n"
     ]
    }
   ],
   "source": [
    "for i in year_order:\n",
    "    print(f'{i} reservation distribution : {str_train[str_train[\"arrival_date_year\"]==i][\"reservation_status\"].value_counts()}')\n",
    "    print(f'{i} success rate : {str_train[str_train[\"arrival_date_year\"]==i][\"reservation_status\"].value_counts()[0]/str_train[str_train[\"arrival_date_year\"]==i].shape[0] *100:.2f}%')"
   ]
  },
  {
   "cell_type": "code",
   "execution_count": 36,
   "metadata": {},
   "outputs": [
    {
     "data": {
      "image/png": "[encoded data removed]",
      "text/plain": [
       "<Figure size 640x480 with 1 Axes>"
      ]
     },
     "metadata": {},
     "output_type": "display_data"
    }
   ],
   "source": [
    "col = 'arrival_date_month'\n",
    "month_order = ['January', 'February', 'March', 'April', 'May', 'June', \n",
    "               'July', 'August', 'September', 'October', 'November', 'December']\n",
    "str_train[col] = pd.Categorical(str_train[col], categories=month_order, ordered=True)\n",
    "\n",
    "# Create the histogram plot\n",
    "plt.figure()\n",
    "sns.histplot(data=str_train, x=col, discrete=True, hue='reservation_status', kde=True, bins=len(month_order))\n",
    "plt.title(f'Distribution of {col} by Reservation Status')\n",
    "plt.xticks(rotation=45)  # Rotate x-axis labels for better readability\n",
    "plt.show()"
   ]
  },
  {
   "cell_type": "code",
   "execution_count": null,
   "metadata": {},
   "outputs": [],
   "source": []
  },
  {
   "cell_type": "markdown",
   "metadata": {},
   "source": [
    "# Data Preparation"
   ]
  },
  {
   "cell_type": "code",
   "execution_count": null,
   "metadata": {
    "execution": {
     "iopub.execute_input": "2025-02-03T15:00:09.119113Z",
     "iopub.status.busy": "2025-02-03T15:00:09.118738Z",
     "iopub.status.idle": "2025-02-03T15:00:09.123700Z",
     "shell.execute_reply": "2025-02-03T15:00:09.122403Z",
     "shell.execute_reply.started": "2025-02-03T15:00:09.119077Z"
    },
    "trusted": true
   },
   "outputs": [],
   "source": [
    "from sklearn.model_selection import train_test_split"
   ]
  },
  {
   "cell_type": "code",
   "execution_count": null,
   "metadata": {
    "execution": {
     "iopub.execute_input": "2025-02-03T15:00:09.125446Z",
     "iopub.status.busy": "2025-02-03T15:00:09.125081Z",
     "iopub.status.idle": "2025-02-03T15:00:09.161016Z",
     "shell.execute_reply": "2025-02-03T15:00:09.159971Z",
     "shell.execute_reply.started": "2025-02-03T15:00:09.125419Z"
    },
    "trusted": true
   },
   "outputs": [],
   "source": [
    "str_train.drop(\"id\",inplace=True,axis=1)"
   ]
  },
  {
   "cell_type": "code",
   "execution_count": null,
   "metadata": {
    "execution": {
     "iopub.execute_input": "2025-02-03T15:00:09.162503Z",
     "iopub.status.busy": "2025-02-03T15:00:09.162092Z",
     "iopub.status.idle": "2025-02-03T15:00:09.272865Z",
     "shell.execute_reply": "2025-02-03T15:00:09.271450Z",
     "shell.execute_reply.started": "2025-02-03T15:00:09.162459Z"
    },
    "trusted": true
   },
   "outputs": [],
   "source": [
    "str_train = str_train.ffill()"
   ]
  },
  {
   "cell_type": "code",
   "execution_count": null,
   "metadata": {
    "execution": {
     "iopub.execute_input": "2025-02-03T15:00:09.274291Z",
     "iopub.status.busy": "2025-02-03T15:00:09.274015Z",
     "iopub.status.idle": "2025-02-03T15:00:09.375395Z",
     "shell.execute_reply": "2025-02-03T15:00:09.374346Z",
     "shell.execute_reply.started": "2025-02-03T15:00:09.274269Z"
    },
    "trusted": true
   },
   "outputs": [],
   "source": [
    "str_train = pd.DataFrame({col: str_train[col].astype('category').cat.codes for col in str_train}, index=str_train.index)"
   ]
  },
  {
   "cell_type": "code",
   "execution_count": null,
   "metadata": {
    "execution": {
     "iopub.execute_input": "2025-02-03T15:00:09.376679Z",
     "iopub.status.busy": "2025-02-03T15:00:09.376389Z",
     "iopub.status.idle": "2025-02-03T15:00:09.385635Z",
     "shell.execute_reply": "2025-02-03T15:00:09.384201Z",
     "shell.execute_reply.started": "2025-02-03T15:00:09.376647Z"
    },
    "trusted": true
   },
   "outputs": [],
   "source": [
    "str_train['reservation_status'].value_counts()"
   ]
  },
  {
   "cell_type": "code",
   "execution_count": null,
   "metadata": {
    "trusted": true
   },
   "outputs": [],
   "source": []
  },
  {
   "cell_type": "markdown",
   "metadata": {},
   "source": [
    "# Modelling"
   ]
  },
  {
   "cell_type": "code",
   "execution_count": null,
   "metadata": {
    "execution": {
     "iopub.execute_input": "2025-02-03T15:00:09.387301Z",
     "iopub.status.busy": "2025-02-03T15:00:09.386949Z",
     "iopub.status.idle": "2025-02-03T15:00:09.402293Z",
     "shell.execute_reply": "2025-02-03T15:00:09.400939Z",
     "shell.execute_reply.started": "2025-02-03T15:00:09.387263Z"
    },
    "trusted": true
   },
   "outputs": [],
   "source": [
    "from catboost import CatBoostClassifier"
   ]
  },
  {
   "cell_type": "code",
   "execution_count": null,
   "metadata": {
    "execution": {
     "iopub.execute_input": "2025-02-03T15:00:09.403831Z",
     "iopub.status.busy": "2025-02-03T15:00:09.403418Z",
     "iopub.status.idle": "2025-02-03T15:00:09.422338Z",
     "shell.execute_reply": "2025-02-03T15:00:09.420982Z",
     "shell.execute_reply.started": "2025-02-03T15:00:09.403782Z"
    },
    "trusted": true
   },
   "outputs": [],
   "source": [
    "cat_1 = CatBoostClassifier()"
   ]
  },
  {
   "cell_type": "code",
   "execution_count": null,
   "metadata": {
    "trusted": true
   },
   "outputs": [],
   "source": []
  },
  {
   "cell_type": "code",
   "execution_count": null,
   "metadata": {
    "execution": {
     "iopub.execute_input": "2025-02-03T15:00:09.426470Z",
     "iopub.status.busy": "2025-02-03T15:00:09.426055Z",
     "iopub.status.idle": "2025-02-03T15:00:24.318745Z",
     "shell.execute_reply": "2025-02-03T15:00:24.317503Z",
     "shell.execute_reply.started": "2025-02-03T15:00:09.426439Z"
    },
    "trusted": true
   },
   "outputs": [],
   "source": [
    "cat_1.fit(str_train.drop(\"reservation_status\",axis=1),str_train['reservation_status'])"
   ]
  },
  {
   "cell_type": "code",
   "execution_count": null,
   "metadata": {
    "trusted": true
   },
   "outputs": [],
   "source": []
  },
  {
   "cell_type": "markdown",
   "metadata": {},
   "source": [
    "# Predict"
   ]
  },
  {
   "cell_type": "code",
   "execution_count": null,
   "metadata": {
    "execution": {
     "iopub.execute_input": "2025-02-03T15:00:24.320936Z",
     "iopub.status.busy": "2025-02-03T15:00:24.320517Z",
     "iopub.status.idle": "2025-02-03T15:00:24.328616Z",
     "shell.execute_reply": "2025-02-03T15:00:24.327376Z",
     "shell.execute_reply.started": "2025-02-03T15:00:24.320896Z"
    },
    "trusted": true
   },
   "outputs": [],
   "source": [
    "test = df_test.drop(\"id\",axis=1)"
   ]
  },
  {
   "cell_type": "code",
   "execution_count": null,
   "metadata": {
    "execution": {
     "iopub.execute_input": "2025-02-03T15:00:24.330045Z",
     "iopub.status.busy": "2025-02-03T15:00:24.329733Z",
     "iopub.status.idle": "2025-02-03T15:00:24.378987Z",
     "shell.execute_reply": "2025-02-03T15:00:24.377877Z",
     "shell.execute_reply.started": "2025-02-03T15:00:24.330020Z"
    },
    "trusted": true
   },
   "outputs": [],
   "source": [
    "test = pd.DataFrame({col: test[col].astype('category').cat.codes for col in test}, index=test.index)"
   ]
  },
  {
   "cell_type": "code",
   "execution_count": null,
   "metadata": {
    "execution": {
     "iopub.execute_input": "2025-02-03T15:00:24.380442Z",
     "iopub.status.busy": "2025-02-03T15:00:24.380030Z",
     "iopub.status.idle": "2025-02-03T15:00:24.407617Z",
     "shell.execute_reply": "2025-02-03T15:00:24.406436Z",
     "shell.execute_reply.started": "2025-02-03T15:00:24.380406Z"
    },
    "trusted": true
   },
   "outputs": [],
   "source": [
    "preds = cat_1.predict(test)"
   ]
  },
  {
   "cell_type": "code",
   "execution_count": null,
   "metadata": {
    "execution": {
     "iopub.execute_input": "2025-02-03T15:00:24.409080Z",
     "iopub.status.busy": "2025-02-03T15:00:24.408705Z",
     "iopub.status.idle": "2025-02-03T15:00:24.420031Z",
     "shell.execute_reply": "2025-02-03T15:00:24.418931Z",
     "shell.execute_reply.started": "2025-02-03T15:00:24.409043Z"
    },
    "trusted": true
   },
   "outputs": [],
   "source": [
    "preds.mean()"
   ]
  },
  {
   "cell_type": "code",
   "execution_count": null,
   "metadata": {
    "execution": {
     "iopub.execute_input": "2025-02-03T15:00:24.421688Z",
     "iopub.status.busy": "2025-02-03T15:00:24.421398Z",
     "iopub.status.idle": "2025-02-03T15:00:24.461917Z",
     "shell.execute_reply": "2025-02-03T15:00:24.460838Z",
     "shell.execute_reply.started": "2025-02-03T15:00:24.421662Z"
    },
    "trusted": true
   },
   "outputs": [],
   "source": [
    "fin = pd.DataFrame({'id': df_test.id, 'reservation_status': preds})\n",
    "fin.to_csv('sub.csv',index=False)"
   ]
  }
 ],
 "metadata": {
  "kaggle": {
   "accelerator": "none",
   "dataSources": [
    {
     "databundleVersionId": 10982994,
     "sourceId": 82135,
     "sourceType": "competition"
    }
   ],
   "dockerImageVersionId": 30839,
   "isGpuEnabled": false,
   "isInternetEnabled": true,
   "language": "python",
   "sourceType": "notebook"
  },
  "kernelspec": {
   "display_name": "Python 3",
   "language": "python",
   "name": "python3"
  },
  "language_info": {
   "codemirror_mode": {
    "name": "ipython",
    "version": 3
   },
   "file_extension": ".py",
   "mimetype": "text/x-python",
   "name": "python",
   "nbconvert_exporter": "python",
   "pygments_lexer": "ipython3",
   "version": "3.12.5"
  }
 },
 "nbformat": 4,
 "nbformat_minor": 4
}
